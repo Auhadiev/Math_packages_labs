{
 "cells": [
  {
   "cell_type": "markdown",
   "id": "bc973366",
   "metadata": {},
   "source": [
    "# Математические пакеты. Лабораторная работа №3\n",
    "\n",
    "Выполнил студент группы 9381 Аухадиев Александр.\n",
    "\n",
    "Вариант 3.\n",
    "\n",
    "## Цели работы\n",
    "\n",
    "Практическое применение библиотеки символьных вычислений Python (SymPy) для решения задач дискретной математики и математической логики.\n",
    "\n",
    "## Задачи\n",
    "\n",
    "1. Решить свой вариант диофантова уравнения.\n",
    "2. Имея открытую часть ключа RSA найти соответствующую закрытую часть и расшифровать кодированное слово.\n",
    "3. Записать в формате ДНФ и КНФ булеву функцию, заданную своим аналитическим выражением.\n",
    "\n"
   ]
  },
  {
   "cell_type": "markdown",
   "id": "5594d7ac",
   "metadata": {},
   "source": [
    "## Выполнение работы\n",
    "\n",
    "### Задача 1. Диофантово уравнение\n",
    "\n",
    "3825x + 4267y = 68"
   ]
  },
  {
   "cell_type": "code",
   "execution_count": 11,
   "id": "a8703b98",
   "metadata": {},
   "outputs": [],
   "source": [
    "from sympy.solvers.diophantine import diophantine\n",
    "from sympy import symbols\n",
    "from sympy.solvers.diophantine.diophantine import diop_solve"
   ]
  },
  {
   "cell_type": "code",
   "execution_count": 8,
   "id": "e759dd49",
   "metadata": {},
   "outputs": [
    {
     "data": {
      "text/plain": [
       "{(251*t_0 - 116, 104 - 225*t_0)}"
      ]
     },
     "execution_count": 8,
     "metadata": {},
     "output_type": "execute_result"
    }
   ],
   "source": [
    "x, y, z = symbols(\"x, y, z\", integer = True)\n",
    "diophantine(3825*x + 4267*y - 68)"
   ]
  },
  {
   "cell_type": "code",
   "execution_count": 12,
   "id": "971b69b7",
   "metadata": {},
   "outputs": [
    {
     "data": {
      "text/latex": [
       "$\\displaystyle \\left( 251 t_{0} - 116, \\  104 - 225 t_{0}\\right)$"
      ],
      "text/plain": [
       "(251*t_0 - 116, 104 - 225*t_0)"
      ]
     },
     "execution_count": 12,
     "metadata": {},
     "output_type": "execute_result"
    }
   ],
   "source": [
    "diop_solve(3825*x + 4267*y - 68)"
   ]
  },
  {
   "cell_type": "markdown",
   "id": "e667a84b",
   "metadata": {},
   "source": [
    "Ответ: x = -116, y = 104\n",
    "\n",
    "### Задача 2. RSA кодирование\n",
    "\n",
    "Русское слово из четырех букв закодировано при помощи алгоритма RSA открытым ключом (e = 5,m = 39). Шифрованное сообщение имеет вид (18; 22; 13; 35). Подберите закрытую часть ключа и прочитайте исходное слово. Буквам русского алфавита соответсвуют числа в диапазоне от 2 до 32 (исключены буквы “e” и “ъ”)."
   ]
  },
  {
   "cell_type": "code",
   "execution_count": 18,
   "id": "14b6a82d",
   "metadata": {},
   "outputs": [],
   "source": [
    "from sympy.crypto.crypto import rsa_private_key, decipher_rsa"
   ]
  },
  {
   "cell_type": "code",
   "execution_count": 20,
   "id": "83b43206",
   "metadata": {},
   "outputs": [
    {
     "name": "stdout",
     "output_type": "stream",
     "text": [
      "[18, 16, 13, 29]\n"
     ]
    }
   ],
   "source": [
    "code = [18, 22, 13, 35]\n",
    "key = rsa_private_key(39, 5) \n",
    "answer = [decipher_rsa(i, key) for i in code]\n",
    "print(answer)"
   ]
  },
  {
   "cell_type": "markdown",
   "id": "9ef19658",
   "metadata": {},
   "source": [
    "Ответ: РОЛЬ\n",
    "\n",
    "### Задача 3. Преобразование булевой функции\n",
    "\n",
    "((xy) v (y xor x)) xor ((zx) v z)"
   ]
  },
  {
   "cell_type": "code",
   "execution_count": 21,
   "id": "1ccbf134",
   "metadata": {},
   "outputs": [],
   "source": [
    "from sympy.logic.boolalg import to_cnf, to_dnf"
   ]
  },
  {
   "cell_type": "code",
   "execution_count": 24,
   "id": "5a9ccd48",
   "metadata": {},
   "outputs": [
    {
     "name": "stdout",
     "output_type": "stream",
     "text": [
      "(x & ~z) | (y & ~z) | (z & ~x & ~y)\n",
      "(x | y | z) & (~x | ~z) & (~y | ~z)\n"
     ]
    }
   ],
   "source": [
    "DNF = to_dnf(((x&y)|(y^x))^((z&x)|z), simplify=True)\n",
    "print(DNF)\n",
    "CNF = to_cnf(((x&y)|(y^x))^((z&x)|z), simplify=True)\n",
    "print(CNF)"
   ]
  },
  {
   "cell_type": "markdown",
   "id": "3b44b2c6",
   "metadata": {},
   "source": [
    "## Выводы\n",
    "\n",
    "В ходе выполнения лабораторной работы были изучены функции библиотеки символьных вычислений Python (SymPy) для решения задач дискретной математики и математической логики."
   ]
  }
 ],
 "metadata": {
  "kernelspec": {
   "display_name": "Python 3",
   "language": "python",
   "name": "python3"
  },
  "language_info": {
   "codemirror_mode": {
    "name": "ipython",
    "version": 3
   },
   "file_extension": ".py",
   "mimetype": "text/x-python",
   "name": "python",
   "nbconvert_exporter": "python",
   "pygments_lexer": "ipython3",
   "version": "3.8.8"
  }
 },
 "nbformat": 4,
 "nbformat_minor": 5
}
