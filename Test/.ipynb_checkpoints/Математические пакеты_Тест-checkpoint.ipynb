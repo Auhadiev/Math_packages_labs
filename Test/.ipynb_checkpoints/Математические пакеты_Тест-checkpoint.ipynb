{
 "cells": [
  {
   "cell_type": "markdown",
   "id": "bc973366",
   "metadata": {},
   "source": [
    "# Математические пакеты. Тестовое задание\n",
    "\n",
    "Выполнил студент группы 9381 Аухадиев Александр.\n",
    "\n",
    "## Цели работы\n",
    "\n",
    "1. Индивидуальное творческое соревнование.\n",
    "2. Самостоятельное освоение одного из важных методов обучения без учителя - обучение без учителя.\n",
    "3. Практическое применение дискретного преобразования Фурье для извлечения признаков обучения.\n",
    "4. Использованием библиотек Python для кластеризации музыкальных сигналов.\n",
    "\n"
   ]
  },
  {
   "cell_type": "code",
   "execution_count": 7,
   "id": "a8703b98",
   "metadata": {},
   "outputs": [],
   "source": [
    "from scipy import fft\n",
    "import random\n",
    "import numpy as np\n",
    "import sklearn.cluster\n",
    "import csv\n",
    "import copy\n",
    "import matplotlib.pyplot as plt\n",
    "import IPython.display as ipd\n",
    "import wave\n",
    "import more_itertools as mi\n",
    "import math\n",
    "from pydub import AudioSegment\n",
    "import more_itertools as mit"
   ]
  },
  {
   "cell_type": "code",
   "execution_count": 3,
   "id": "34c0e34b",
   "metadata": {},
   "outputs": [],
   "source": [
    "n = 124\n",
    "files = []\n",
    "for i in range(1, n+1):\n",
    "    if i < 10:\n",
    "        files.append(\"0\" + str(i) + \".mp3\")\n",
    "    else:\n",
    "        files.append(str(i)  + \".mp3\")\n",
    "\n",
    "data_array = []\n",
    "framerates = []\n",
    "for i in range(0, n):\n",
    "    framerate = AudioSegment.from_mp3(files[i]).set_channels(1)\n",
    "    data_array.append(np.array(framerate.get_array_of_samples()))\n",
    "    framerates.append(framerate.frame_rate)"
   ]
  },
  {
   "cell_type": "code",
   "execution_count": 8,
   "id": "3ff94ab7",
   "metadata": {},
   "outputs": [],
   "source": [
    "amplitude_spectra = []\n",
    "dim = 128\n",
    "win_width = 128\n",
    "spectral_resolutions = [framerates[i] // dim for i in range(len(framerates))]\n",
    "for data in data_array:\n",
    "    \n",
    "    data_intervals = list(mit.windowed(data, fillvalue=0, n=dim, step=win_width))\n",
    "    coef = 0\n",
    "    for i in data_intervals:\n",
    "        m = np.max(i)\n",
    "        if m > coef:\n",
    "            coef = m\n",
    "    coef *= 0.3\n",
    "\n",
    "    data_intervals = list(filter(lambda i: np.max(i) > coef, data_intervals))\n",
    "    data_intervals = list(map(lambda interval: fft.fft(interval * np.hamming(len(interval))), data_intervals))\n",
    "    amplitude_spectral = [[np.abs(i) for i in interval[:dim//2]] for interval in data_intervals]\n",
    "    amplitude_spectrum = [0 for i in range(dim // 2)]\n",
    "    \n",
    "    for i in amplitude_spectral:\n",
    "        for j in range(dim // 2):\n",
    "            amplitude_spectrum[j] += i[j]\n",
    "    for i in range(dim // 2):\n",
    "        amplitude_spectrum [i] /= len(data_intervals)    \n",
    "    amplitude_spectra.append(a)"
   ]
  },
  {
   "cell_type": "code",
   "execution_count": 14,
   "id": "764f849a",
   "metadata": {},
   "outputs": [
    {
     "name": "stdout",
     "output_type": "stream",
     "text": [
      "153934143120.90234\n",
      "[[13, 15, 20, 21, 22, 93, 108, 117], [1, 4, 7, 10, 27, 41, 53, 54, 56, 57, 58, 60, 61, 62, 66, 79, 82, 85, 86, 88, 90, 92, 94, 103], [12, 35, 36, 37, 38, 39, 42, 43, 44, 45, 46, 47, 52, 55, 63, 64, 69, 71, 73, 74, 75, 76, 77, 78, 81, 83, 95, 105, 107, 123], [0, 2, 3, 5, 6, 8, 9, 11, 14, 16, 17, 24, 25, 26, 28, 30, 31, 33, 34, 59, 65, 67, 97, 98, 99, 100, 101, 102, 106, 110, 111, 112, 113, 114, 115, 116, 118, 119, 120, 121, 122], [18, 19, 23, 29, 32, 40, 48, 49, 50, 51, 68, 70, 72, 80, 84, 87, 89, 91, 96, 104, 109]]\n"
     ]
    }
   ],
   "source": [
    "def data_distribution(data, centers):\n",
    "    dim = len(data[0])\n",
    "    n = len(data)\n",
    "    k = len(centers)\n",
    "    clusters = [[] for i in range(k)]\n",
    "\n",
    "    for i in range(n):\n",
    "        min_distance = float('inf')\n",
    "        situable_cluster = -1\n",
    "        \n",
    "        for j in range(k):\n",
    "            distance = 0\n",
    "            for n in range(dim):\n",
    "                distance += (data[i][n] - centers[j][n]) ** 2\n",
    "            distance = distance ** 0.5\n",
    "            \n",
    "            if distance < min_distance:\n",
    "                min_distance = distance\n",
    "                situable_cluster = j\n",
    "\n",
    "        clusters[situable_cluster].append(i)\n",
    "\n",
    "    return clusters\n",
    "\n",
    "def centers_update(data, clusters, centers):\n",
    "    dim = len(data[0])\n",
    "    k = len(centers)\n",
    "    \n",
    "    for i in range(k): \n",
    "        for q in range(dim):\n",
    "            if len(clusters[i]) != 0:\n",
    "                updated_parameter = 0\n",
    "                for j in range(len(clusters[i])): \n",
    "                    updated_parameter += data[clusters[i][j]][q]\n",
    "                updated_parameter = updated_parameter / len(clusters[i])\n",
    "                centers[i][q] = updated_parameter\n",
    "\n",
    "def clusterization(data, k):\n",
    "    n = len(data)  \n",
    "    dim = len(data[0])  \n",
    "\n",
    "    indices = []\n",
    "    for i in range(k):\n",
    "        r = random.randint(0, k - 1)\n",
    "        while r in indexes:\n",
    "            r = random.randint(0, k - 1)\n",
    "        indices.append(r)\n",
    "        \n",
    "    centers = [copy.deepcopy(data[indices[i]]) for i in range(k)]\n",
    "    clusters = data_distribution(data, centers)\n",
    "    previous_centers = None\n",
    "        \n",
    "    for i in range(100):\n",
    "        previous_centers = copy.deepcopy(centers)\n",
    "        centers_update(data, clusters, centers)\n",
    "        clusters = data_distribution(data, centers)\n",
    "        \n",
    "    compact = 0\n",
    "    for i in range(k):\n",
    "        for j in range(len(clusters[i])):\n",
    "            for n in range(dim):\n",
    "                compact += (data[clusters[i][j]][n] - centers[i]) ** 2                \n",
    "    \n",
    "    print(compact)\n",
    "    return clusters\n",
    "\n",
    "result = clusterization(amplitude_spectra, 5)\n",
    "print(result)"
   ]
  },
  {
   "cell_type": "markdown",
   "id": "3b44b2c6",
   "metadata": {},
   "source": [
    "## Выводы\n",
    "\n",
    "В ходе выполнения тестового задания был самостоятельно освоен один из важных методов обучения без учителя - обучение без учителя, была проведена кластеризация звуковых файлов формата mp3 на основе амплитудных спектров записей, полученных с помощью дискретного преобразования Фурье."
   ]
  }
 ],
 "metadata": {
  "kernelspec": {
   "display_name": "Python 3",
   "language": "python",
   "name": "python3"
  },
  "language_info": {
   "codemirror_mode": {
    "name": "ipython",
    "version": 3
   },
   "file_extension": ".py",
   "mimetype": "text/x-python",
   "name": "python",
   "nbconvert_exporter": "python",
   "pygments_lexer": "ipython3",
   "version": "3.8.8"
  }
 },
 "nbformat": 4,
 "nbformat_minor": 5
}
